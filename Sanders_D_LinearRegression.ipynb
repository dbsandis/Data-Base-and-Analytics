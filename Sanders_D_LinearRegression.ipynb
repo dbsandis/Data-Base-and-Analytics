{
 "cells": [
  {
   "cell_type": "markdown",
   "metadata": {
    "id": "d5Qew_UU1i16"
   },
   "source": [
    "# **DSBA/MBAD 6201 Assignment:** Data Exploration and Multiple Linear Regression\n",
    "\n"
   ]
  },
  {
   "cell_type": "markdown",
   "metadata": {
    "id": "fyteZh0XYrJD"
   },
   "source": [
    "# Load Data"
   ]
  },
  {
   "cell_type": "code",
   "execution_count": 1,
   "metadata": {
    "colab": {
     "base_uri": "https://localhost:8080/"
    },
    "id": "UqOz6AZGY_EH",
    "outputId": "15b0c342-39e8-47e1-9b87-eaf798ec17e5"
   },
   "outputs": [
    {
     "name": "stdout",
     "output_type": "stream",
     "text": [
      "['.ipynb_checkpoints', 'auto_mpg_edit.csv', 'Sanders_D_LinearRegression.ipynb']\n"
     ]
    }
   ],
   "source": [
    "import os\n",
    "print(os.listdir())\n"
   ]
  },
  {
   "cell_type": "code",
   "execution_count": 2,
   "metadata": {
    "id": "y46RNlDlwebv"
   },
   "outputs": [],
   "source": [
    "import pandas as pd #import package\n",
    "df = pd.read_csv('auto_mpg_edit.csv') #load the csv file"
   ]
  },
  {
   "cell_type": "code",
   "execution_count": 3,
   "metadata": {
    "colab": {
     "base_uri": "https://localhost:8080/",
     "height": 206
    },
    "id": "N10mLaeBZDEk",
    "outputId": "08f54d9d-0f3e-4127-cded-5544bcfbca63"
   },
   "outputs": [
    {
     "data": {
      "text/html": [
       "<div>\n",
       "<style scoped>\n",
       "    .dataframe tbody tr th:only-of-type {\n",
       "        vertical-align: middle;\n",
       "    }\n",
       "\n",
       "    .dataframe tbody tr th {\n",
       "        vertical-align: top;\n",
       "    }\n",
       "\n",
       "    .dataframe thead th {\n",
       "        text-align: right;\n",
       "    }\n",
       "</style>\n",
       "<table border=\"1\" class=\"dataframe\">\n",
       "  <thead>\n",
       "    <tr style=\"text-align: right;\">\n",
       "      <th></th>\n",
       "      <th>mpg</th>\n",
       "      <th>cylinders</th>\n",
       "      <th>displacement</th>\n",
       "      <th>horsepower</th>\n",
       "      <th>weight</th>\n",
       "      <th>acceleration</th>\n",
       "      <th>car name</th>\n",
       "    </tr>\n",
       "  </thead>\n",
       "  <tbody>\n",
       "    <tr>\n",
       "      <th>0</th>\n",
       "      <td>18.0</td>\n",
       "      <td>8</td>\n",
       "      <td>307.0</td>\n",
       "      <td>130</td>\n",
       "      <td>3504</td>\n",
       "      <td>12.0</td>\n",
       "      <td>chevrolet chevelle malibu</td>\n",
       "    </tr>\n",
       "    <tr>\n",
       "      <th>1</th>\n",
       "      <td>15.0</td>\n",
       "      <td>8</td>\n",
       "      <td>350.0</td>\n",
       "      <td>165</td>\n",
       "      <td>3693</td>\n",
       "      <td>11.5</td>\n",
       "      <td>buick skylark 320</td>\n",
       "    </tr>\n",
       "    <tr>\n",
       "      <th>2</th>\n",
       "      <td>18.0</td>\n",
       "      <td>8</td>\n",
       "      <td>318.0</td>\n",
       "      <td>150</td>\n",
       "      <td>3436</td>\n",
       "      <td>11.0</td>\n",
       "      <td>plymouth satellite</td>\n",
       "    </tr>\n",
       "    <tr>\n",
       "      <th>3</th>\n",
       "      <td>16.0</td>\n",
       "      <td>8</td>\n",
       "      <td>304.0</td>\n",
       "      <td>150</td>\n",
       "      <td>3433</td>\n",
       "      <td>12.0</td>\n",
       "      <td>amc rebel sst</td>\n",
       "    </tr>\n",
       "    <tr>\n",
       "      <th>4</th>\n",
       "      <td>17.0</td>\n",
       "      <td>8</td>\n",
       "      <td>302.0</td>\n",
       "      <td>140</td>\n",
       "      <td>3449</td>\n",
       "      <td>10.5</td>\n",
       "      <td>ford torino</td>\n",
       "    </tr>\n",
       "  </tbody>\n",
       "</table>\n",
       "</div>"
      ],
      "text/plain": [
       "    mpg  cylinders  displacement  horsepower  weight  acceleration  \\\n",
       "0  18.0          8         307.0         130    3504          12.0   \n",
       "1  15.0          8         350.0         165    3693          11.5   \n",
       "2  18.0          8         318.0         150    3436          11.0   \n",
       "3  16.0          8         304.0         150    3433          12.0   \n",
       "4  17.0          8         302.0         140    3449          10.5   \n",
       "\n",
       "                    car name  \n",
       "0  chevrolet chevelle malibu  \n",
       "1          buick skylark 320  \n",
       "2         plymouth satellite  \n",
       "3              amc rebel sst  \n",
       "4                ford torino  "
      ]
     },
     "execution_count": 3,
     "metadata": {},
     "output_type": "execute_result"
    }
   ],
   "source": [
    "df.head()"
   ]
  },
  {
   "cell_type": "code",
   "execution_count": 4,
   "metadata": {
    "colab": {
     "base_uri": "https://localhost:8080/"
    },
    "id": "NEuT6y_6ZHVR",
    "outputId": "f20657a0-f277-45bd-ca9f-181cb4a7a8f0"
   },
   "outputs": [
    {
     "name": "stdout",
     "output_type": "stream",
     "text": [
      "<class 'pandas.core.frame.DataFrame'>\n",
      "RangeIndex: 392 entries, 0 to 391\n",
      "Data columns (total 7 columns):\n",
      " #   Column        Non-Null Count  Dtype  \n",
      "---  ------        --------------  -----  \n",
      " 0   mpg           392 non-null    float64\n",
      " 1   cylinders     392 non-null    int64  \n",
      " 2   displacement  392 non-null    float64\n",
      " 3   horsepower    392 non-null    int64  \n",
      " 4   weight        392 non-null    int64  \n",
      " 5   acceleration  392 non-null    float64\n",
      " 6   car name      392 non-null    object \n",
      "dtypes: float64(3), int64(3), object(1)\n",
      "memory usage: 21.6+ KB\n"
     ]
    }
   ],
   "source": [
    "df.info()"
   ]
  },
  {
   "cell_type": "code",
   "execution_count": 5,
   "metadata": {
    "colab": {
     "base_uri": "https://localhost:8080/",
     "height": 300
    },
    "id": "SD7oI_-RZIus",
    "outputId": "05afb5d1-fd9e-4a36-ba0a-47003a49c323"
   },
   "outputs": [
    {
     "data": {
      "text/html": [
       "<div>\n",
       "<style scoped>\n",
       "    .dataframe tbody tr th:only-of-type {\n",
       "        vertical-align: middle;\n",
       "    }\n",
       "\n",
       "    .dataframe tbody tr th {\n",
       "        vertical-align: top;\n",
       "    }\n",
       "\n",
       "    .dataframe thead th {\n",
       "        text-align: right;\n",
       "    }\n",
       "</style>\n",
       "<table border=\"1\" class=\"dataframe\">\n",
       "  <thead>\n",
       "    <tr style=\"text-align: right;\">\n",
       "      <th></th>\n",
       "      <th>mpg</th>\n",
       "      <th>cylinders</th>\n",
       "      <th>displacement</th>\n",
       "      <th>horsepower</th>\n",
       "      <th>weight</th>\n",
       "      <th>acceleration</th>\n",
       "    </tr>\n",
       "  </thead>\n",
       "  <tbody>\n",
       "    <tr>\n",
       "      <th>count</th>\n",
       "      <td>392.000000</td>\n",
       "      <td>392.000000</td>\n",
       "      <td>392.000000</td>\n",
       "      <td>392.000000</td>\n",
       "      <td>392.000000</td>\n",
       "      <td>392.000000</td>\n",
       "    </tr>\n",
       "    <tr>\n",
       "      <th>mean</th>\n",
       "      <td>23.445918</td>\n",
       "      <td>5.471939</td>\n",
       "      <td>194.411990</td>\n",
       "      <td>104.469388</td>\n",
       "      <td>2977.584184</td>\n",
       "      <td>15.541327</td>\n",
       "    </tr>\n",
       "    <tr>\n",
       "      <th>std</th>\n",
       "      <td>7.805007</td>\n",
       "      <td>1.705783</td>\n",
       "      <td>104.644004</td>\n",
       "      <td>38.491160</td>\n",
       "      <td>849.402560</td>\n",
       "      <td>2.758864</td>\n",
       "    </tr>\n",
       "    <tr>\n",
       "      <th>min</th>\n",
       "      <td>9.000000</td>\n",
       "      <td>3.000000</td>\n",
       "      <td>68.000000</td>\n",
       "      <td>46.000000</td>\n",
       "      <td>1613.000000</td>\n",
       "      <td>8.000000</td>\n",
       "    </tr>\n",
       "    <tr>\n",
       "      <th>25%</th>\n",
       "      <td>17.000000</td>\n",
       "      <td>4.000000</td>\n",
       "      <td>105.000000</td>\n",
       "      <td>75.000000</td>\n",
       "      <td>2225.250000</td>\n",
       "      <td>13.775000</td>\n",
       "    </tr>\n",
       "    <tr>\n",
       "      <th>50%</th>\n",
       "      <td>22.750000</td>\n",
       "      <td>4.000000</td>\n",
       "      <td>151.000000</td>\n",
       "      <td>93.500000</td>\n",
       "      <td>2803.500000</td>\n",
       "      <td>15.500000</td>\n",
       "    </tr>\n",
       "    <tr>\n",
       "      <th>75%</th>\n",
       "      <td>29.000000</td>\n",
       "      <td>8.000000</td>\n",
       "      <td>275.750000</td>\n",
       "      <td>126.000000</td>\n",
       "      <td>3614.750000</td>\n",
       "      <td>17.025000</td>\n",
       "    </tr>\n",
       "    <tr>\n",
       "      <th>max</th>\n",
       "      <td>46.600000</td>\n",
       "      <td>8.000000</td>\n",
       "      <td>455.000000</td>\n",
       "      <td>230.000000</td>\n",
       "      <td>5140.000000</td>\n",
       "      <td>24.800000</td>\n",
       "    </tr>\n",
       "  </tbody>\n",
       "</table>\n",
       "</div>"
      ],
      "text/plain": [
       "              mpg   cylinders  displacement  horsepower       weight  \\\n",
       "count  392.000000  392.000000    392.000000  392.000000   392.000000   \n",
       "mean    23.445918    5.471939    194.411990  104.469388  2977.584184   \n",
       "std      7.805007    1.705783    104.644004   38.491160   849.402560   \n",
       "min      9.000000    3.000000     68.000000   46.000000  1613.000000   \n",
       "25%     17.000000    4.000000    105.000000   75.000000  2225.250000   \n",
       "50%     22.750000    4.000000    151.000000   93.500000  2803.500000   \n",
       "75%     29.000000    8.000000    275.750000  126.000000  3614.750000   \n",
       "max     46.600000    8.000000    455.000000  230.000000  5140.000000   \n",
       "\n",
       "       acceleration  \n",
       "count    392.000000  \n",
       "mean      15.541327  \n",
       "std        2.758864  \n",
       "min        8.000000  \n",
       "25%       13.775000  \n",
       "50%       15.500000  \n",
       "75%       17.025000  \n",
       "max       24.800000  "
      ]
     },
     "execution_count": 5,
     "metadata": {},
     "output_type": "execute_result"
    }
   ],
   "source": [
    "df.describe()"
   ]
  },
  {
   "cell_type": "markdown",
   "metadata": {
    "id": "BOeGJhu6Yt5E"
   },
   "source": [
    "# Data Preprocessing"
   ]
  },
  {
   "cell_type": "code",
   "execution_count": 6,
   "metadata": {
    "id": "EekXFMkGYzbi"
   },
   "outputs": [],
   "source": [
    "df.drop(columns=['car name'], inplace=True) # drop the 'car name' column because it is not useful"
   ]
  },
  {
   "cell_type": "markdown",
   "metadata": {
    "id": "ZX7CcqectF3L"
   },
   "source": [
    "## 1a. Generate box-plot for the horsepower and acceleration attributes and identify the cutoff values for outliers. (2 pts)"
   ]
  },
  {
   "cell_type": "code",
   "execution_count": 7,
   "metadata": {
    "colab": {
     "base_uri": "https://localhost:8080/",
     "height": 635
    },
    "id": "ssQLi27VVr2b",
    "outputId": "13c2ca00-924c-4f54-d93e-dd63389be5f5"
   },
   "outputs": [
    {
     "name": "stderr",
     "output_type": "stream",
     "text": [
      "C:\\Users\\DS84293\\Anaconda3\\lib\\site-packages\\scipy\\__init__.py:155: UserWarning: A NumPy version >=1.18.5 and <1.25.0 is required for this version of SciPy (detected version 1.26.2\n",
      "  warnings.warn(f\"A NumPy version >={np_minversion} and <{np_maxversion}\"\n"
     ]
    },
    {
     "data": {
      "image/png": "[encoded data removed]",
      "text/plain": [
       "<Figure size 1200x600 with 2 Axes>"
      ]
     },
     "metadata": {},
     "output_type": "display_data"
    },
    {
     "name": "stdout",
     "output_type": "stream",
     "text": [
      "Horsepower outliers are below -1.5 or above 202.5.\n",
      "Acceleration outliers are below 8.900000000000002 or above 21.899999999999995.\n"
     ]
    }
   ],
   "source": [
    "import pandas as pd\n",
    "import matplotlib.pyplot as plt\n",
    "import seaborn as sns\n",
    "\n",
    "# Setting the seaborn style for better aesthetics\n",
    "sns.set(style=\"whitegrid\")\n",
    "\n",
    "# Creating box plots for horsepower and acceleration\n",
    "fig, axs = plt.subplots(1, 2, figsize=(12, 6))\n",
    "\n",
    "# Horsepower box plot\n",
    "sns.boxplot(data=df, y=\"horsepower\", ax=axs[0])\n",
    "axs[0].set_title('Box plot of Horsepower')\n",
    "\n",
    "# Acceleration box plot\n",
    "sns.boxplot(data=df, y=\"acceleration\", ax=axs[1])\n",
    "axs[1].set_title('Box plot of Acceleration')\n",
    "\n",
    "plt.tight_layout()\n",
    "plt.show()\n",
    "\n",
    "# Calculate and print the cutoff values for outliers for both horsepower and acceleration\n",
    "\n",
    "# Horsepower\n",
    "Q1_hp, Q3_hp = df['horsepower'].quantile([0.25, 0.75])\n",
    "IQR_hp = Q3_hp - Q1_hp\n",
    "outlier_low_hp = Q1_hp - 1.5 * IQR_hp\n",
    "outlier_high_hp = Q3_hp + 1.5 * IQR_hp\n",
    "\n",
    "# Acceleration\n",
    "Q1_acc, Q3_acc = df['acceleration'].quantile([0.25, 0.75])\n",
    "IQR_acc = Q3_acc - Q1_acc\n",
    "outlier_low_acc = Q1_acc - 1.5 * IQR_acc\n",
    "outlier_high_acc = Q3_acc + 1.5 * IQR_acc\n",
    "\n",
    "print(f'Horsepower outliers are below {outlier_low_hp} or above {outlier_high_hp}.')\n",
    "print(f'Acceleration outliers are below {outlier_low_acc} or above {outlier_high_acc}.')\n"
   ]
  },
  {
   "cell_type": "markdown",
   "metadata": {
    "id": "cwbj1Wng0VZz"
   },
   "source": [
    "## 1b. Genrate a scatterplot for acceleration against horsepower. (2 pts)"
   ]
  },
  {
   "cell_type": "code",
   "execution_count": 8,
   "metadata": {
    "colab": {
     "base_uri": "https://localhost:8080/",
     "height": 573
    },
    "id": "FSa6M_BOVw8r",
    "outputId": "f941cb67-7cca-4bed-a43a-b5ec87ebffff"
   },
   "outputs": [
    {
     "data": {
      "image/png": "[encoded data removed]",
      "text/plain": [
       "<Figure size 1000x600 with 1 Axes>"
      ]
     },
     "metadata": {},
     "output_type": "display_data"
    }
   ],
   "source": [
    "# Generate a scatterplot for acceleration against horsepower\n",
    "plt.figure(figsize=(10, 6))\n",
    "sns.scatterplot(data=df, x='horsepower', y='acceleration')\n",
    "plt.title('Scatterplot of Acceleration vs Horsepower')\n",
    "plt.xlabel('Horsepower')\n",
    "plt.ylabel('Acceleration')\n",
    "plt.show()"
   ]
  },
  {
   "cell_type": "markdown",
   "metadata": {
    "id": "YcpJiGao2QbG"
   },
   "source": [
    "## 1c. Comment on how inclusion of the outliers would affect a predictive model of 'mpg' as a function of 'acceleration'. (2 pt)"
   ]
  },
  {
   "cell_type": "markdown",
   "metadata": {
    "id": "6O-TCKCMjMph"
   },
   "source": [
    "Inclusion of outliers in a predictive model of 'mpg' as a function of 'acceleration' can significantly impact its accuracy and reliability. Outliers can skew the model, leading to increased prediction errors, reduced performance on unseen data, and potential biases in the estimates."
   ]
  },
  {
   "cell_type": "markdown",
   "metadata": {
    "id": "4_3IEaOb4k-0"
   },
   "source": [
    "## 2. 'mpg' has a somewhat longish tail and is not precisely normally distributed, so we will take a log transformation, ( use df['lmpg'] = df['mpg'].apply(np.log) ), and then predict 'lmpg' instead. (You should convince yourself that this is a better idea by looking at the histograms to assess normality; however no need to submit such plots.) (2 pt)"
   ]
  },
  {
   "cell_type": "code",
   "execution_count": 9,
   "metadata": {
    "colab": {
     "base_uri": "https://localhost:8080/",
     "height": 549
    },
    "id": "1QNoKYVHV99P",
    "outputId": "15af5ebb-1218-4a9c-816e-cdbb0ed84911"
   },
   "outputs": [
    {
     "data": {
      "image/png": "[encoded data removed]",
      "text/plain": [
       "<Figure size 1200x600 with 2 Axes>"
      ]
     },
     "metadata": {},
     "output_type": "display_data"
    }
   ],
   "source": [
    "\n",
    "import numpy as np\n",
    "import pandas as pd\n",
    "\n",
    "df['lmpg'] = df['mpg'].apply(np.log)\n",
    "import matplotlib.pyplot as plt\n",
    "fig, axs = plt.subplots(1, 2, figsize=(12, 6))\n",
    "df['mpg'].hist(ax=axs[0], bins=20)\n",
    "axs[0].set_title('Histogram of mpg')\n",
    "df['lmpg'].hist(ax=axs[1], bins=20)\n",
    "axs[1].set_title('Histogram of log-transformed mpg (lmpg)')\n",
    "plt.show()\n"
   ]
  },
  {
   "cell_type": "markdown",
   "metadata": {
    "id": "qdtHZpjPkq-d"
   },
   "source": [
    "Applying the logarithm compresses the data and helps ignore the outliers\n",
    "closer to a normal distribution."
   ]
  },
  {
   "cell_type": "markdown",
   "metadata": {
    "id": "2m0UQhwY6vk0"
   },
   "source": [
    "## Split the data into train and test sets"
   ]
  },
  {
   "cell_type": "code",
   "execution_count": 10,
   "metadata": {
    "id": "dr3Rs7E562Gt"
   },
   "outputs": [],
   "source": [
    "from sklearn.model_selection import train_test_split # import the needed package\n",
    "\n",
    "# Specify the independent variables (X) and dependent variable (Y)\n",
    "X = df[['cylinders',\t'displacement',\t'horsepower',\t'weight',\t'acceleration']]\n",
    "y =df['lmpg']\n",
    "\n",
    "seed = 0  # Assign a seed value.\n",
    "\n",
    "# Split the data into training and testing sets\n",
    "X_train, X_test, y_train, y_test = train_test_split(X, y, test_size=0.2, random_state=seed)\n"
   ]
  },
  {
   "cell_type": "markdown",
   "metadata": {
    "id": "PpZorogAILEU"
   },
   "source": [
    "# Regression analysis and assesment"
   ]
  },
  {
   "cell_type": "markdown",
   "metadata": {
    "id": "X76aAweh5w34"
   },
   "source": [
    "## 3. Try to fit an MLR to this dataset, with 'lmpg' as the dependent variable. Use all the available variables in your model. (4 pts)"
   ]
  },
  {
   "cell_type": "code",
   "execution_count": 11,
   "metadata": {
    "colab": {
     "base_uri": "https://localhost:8080/"
    },
    "id": "MuDmmPQkWBLu",
    "outputId": "d1724a37-8e52-4a3a-8434-dde04606b61b"
   },
   "outputs": [
    {
     "name": "stderr",
     "output_type": "stream",
     "text": [
      "C:\\Users\\DS84293\\Anaconda3\\lib\\site-packages\\sklearn\\utils\\validation.py:623: FutureWarning: is_sparse is deprecated and will be removed in a future version. Check `isinstance(dtype, pd.SparseDtype)` instead.\n",
      "  if not hasattr(array, \"sparse\") and array.dtypes.apply(is_sparse).any():\n"
     ]
    },
    {
     "name": "stdout",
     "output_type": "stream",
     "text": [
      "Mean Squared Error (MSE): 0.024878082027346173\n",
      "R-squared Value: 0.78920355609916\n"
     ]
    },
    {
     "name": "stderr",
     "output_type": "stream",
     "text": [
      "C:\\Users\\DS84293\\Anaconda3\\lib\\site-packages\\sklearn\\utils\\validation.py:623: FutureWarning: is_sparse is deprecated and will be removed in a future version. Check `isinstance(dtype, pd.SparseDtype)` instead.\n",
      "  if not hasattr(array, \"sparse\") and array.dtypes.apply(is_sparse).any():\n"
     ]
    }
   ],
   "source": [
    "import numpy as np\n",
    "import pandas as pd\n",
    "from sklearn.model_selection import train_test_split\n",
    "from sklearn.linear_model import LinearRegression\n",
    "from sklearn.metrics import mean_squared_error, r2_score\n",
    "\n",
    "# Apply the log transformation to 'mpg' to create 'lmpg'\n",
    "df['lmpg'] = np.log(df['mpg'])\n",
    "\n",
    "# Define the independent variables (X) and the dependent variable (y)\n",
    "# Here we're using all available variables as predictors except 'mpg' itself and 'car name'\n",
    "X = df[['cylinders', 'displacement', 'horsepower', 'weight', 'acceleration']]\n",
    "y = df['lmpg']\n",
    "\n",
    "# Split the dataset into training and testing sets\n",
    "seed = 0  # Seed for reproducibility\n",
    "X_train, X_test, y_train, y_test = train_test_split(X, y, test_size=0.2, random_state=seed)\n",
    "\n",
    "# Initialize and fit the Multiple Linear Regression model\n",
    "model = LinearRegression()\n",
    "model.fit(X_train, y_train)\n",
    "\n",
    "# Make predictions on the testing set\n",
    "y_pred = model.predict(X_test)\n",
    "\n",
    "# Evaluate the model\n",
    "mse = mean_squared_error(y_test, y_pred)\n",
    "r2 = r2_score(y_test, y_pred)\n",
    "\n",
    "# Print the performance metrics\n",
    "print(f'Mean Squared Error (MSE): {mse}')\n",
    "print(f'R-squared Value: {r2}')\n"
   ]
  },
  {
   "cell_type": "markdown",
   "metadata": {
    "id": "O5k5ynTs8MUV"
   },
   "source": [
    "## 4. Report the coefficients obtained by your model. Would you drop any of the variables used in your model (based on the t-scores or p-values)? (5 pts)\n"
   ]
  },
  {
   "cell_type": "code",
   "execution_count": 12,
   "metadata": {
    "colab": {
     "base_uri": "https://localhost:8080/"
    },
    "id": "L8zPlx25WC5l",
    "outputId": "402d7d87-2bf0-4495-a260-da06731da2ce"
   },
   "outputs": [
    {
     "name": "stdout",
     "output_type": "stream",
     "text": [
      "       Variable  Coefficient  F-Statistic        p-value\n",
      "0     cylinders    -0.023825   637.939444   2.537583e-77\n",
      "1  displacement     0.000084   799.153569   6.211888e-88\n",
      "2    horsepower    -0.002413   657.220272   1.106484e-78\n",
      "3        weight    -0.000229  1036.674759  4.847581e-101\n",
      "4  acceleration    -0.001539    68.377573   3.979148e-15\n"
     ]
    },
    {
     "name": "stderr",
     "output_type": "stream",
     "text": [
      "C:\\Users\\DS84293\\Anaconda3\\lib\\site-packages\\sklearn\\utils\\validation.py:623: FutureWarning: is_sparse is deprecated and will be removed in a future version. Check `isinstance(dtype, pd.SparseDtype)` instead.\n",
      "  if not hasattr(array, \"sparse\") and array.dtypes.apply(is_sparse).any():\n",
      "C:\\Users\\DS84293\\Anaconda3\\lib\\site-packages\\sklearn\\utils\\validation.py:623: FutureWarning: is_sparse is deprecated and will be removed in a future version. Check `isinstance(dtype, pd.SparseDtype)` instead.\n",
      "  if not hasattr(array, \"sparse\") and array.dtypes.apply(is_sparse).any():\n"
     ]
    }
   ],
   "source": [
    "import numpy as np\n",
    "import pandas as pd\n",
    "from sklearn.linear_model import LinearRegression\n",
    "from sklearn.feature_selection import f_regression\n",
    "from sklearn.model_selection import train_test_split\n",
    "\n",
    "# Assuming 'df' is your DataFrame after log transformation has been applied\n",
    "X = df[['cylinders', 'displacement', 'horsepower', 'weight', 'acceleration']]\n",
    "y = df['lmpg']\n",
    "\n",
    "# Splitting the data (Assuming this has not been done in the current context)\n",
    "X_train, X_test, y_train, y_test = train_test_split(X, y, test_size=0.2, random_state=0)\n",
    "\n",
    "# Fitting the MLR model\n",
    "model = LinearRegression()\n",
    "model.fit(X_train, y_train)\n",
    "\n",
    "# Obtaining coefficients\n",
    "coefficients = model.coef_\n",
    "\n",
    "# Calculating F-statistics and p-values\n",
    "F, p_values = f_regression(X_train, y_train)\n",
    "\n",
    "# Compiling the results into a DataFrame\n",
    "results_df = pd.DataFrame({\n",
    "    'Variable': X.columns,\n",
    "    'Coefficient': coefficients,\n",
    "    'F-Statistic': F,\n",
    "    'p-value': p_values\n",
    "})\n",
    "\n",
    "print(results_df)\n"
   ]
  },
  {
   "cell_type": "markdown",
   "metadata": {
    "id": "5PwEyQE-9X49"
   },
   "source": [
    "## 5. Report the MSE obtained on X_train. Score your model (i.e., predict) on X_test. Also report how much the MSE changes. (3 pts)\n"
   ]
  },
  {
   "cell_type": "code",
   "execution_count": 13,
   "metadata": {
    "colab": {
     "base_uri": "https://localhost:8080/"
    },
    "id": "LfOHaeyWWFR8",
    "outputId": "fdcd5c50-69a6-49ff-af9a-a9e21cc57389"
   },
   "outputs": [
    {
     "name": "stdout",
     "output_type": "stream",
     "text": [
      "MSE on training set: 0.02395066247987542\n",
      "MSE on testing set: 0.024878082027346173\n",
      "Change in MSE from training to testing: 0.0009274195474707515\n"
     ]
    },
    {
     "name": "stderr",
     "output_type": "stream",
     "text": [
      "C:\\Users\\DS84293\\Anaconda3\\lib\\site-packages\\sklearn\\utils\\validation.py:623: FutureWarning: is_sparse is deprecated and will be removed in a future version. Check `isinstance(dtype, pd.SparseDtype)` instead.\n",
      "  if not hasattr(array, \"sparse\") and array.dtypes.apply(is_sparse).any():\n",
      "C:\\Users\\DS84293\\Anaconda3\\lib\\site-packages\\sklearn\\utils\\validation.py:623: FutureWarning: is_sparse is deprecated and will be removed in a future version. Check `isinstance(dtype, pd.SparseDtype)` instead.\n",
      "  if not hasattr(array, \"sparse\") and array.dtypes.apply(is_sparse).any():\n",
      "C:\\Users\\DS84293\\Anaconda3\\lib\\site-packages\\sklearn\\utils\\validation.py:623: FutureWarning: is_sparse is deprecated and will be removed in a future version. Check `isinstance(dtype, pd.SparseDtype)` instead.\n",
      "  if not hasattr(array, \"sparse\") and array.dtypes.apply(is_sparse).any():\n"
     ]
    }
   ],
   "source": [
    "import numpy as np\n",
    "import pandas as pd\n",
    "from sklearn.model_selection import train_test_split\n",
    "from sklearn.linear_model import LinearRegression\n",
    "from sklearn.metrics import mean_squared_error\n",
    "\n",
    "# Log-transform 'mpg' and define predictors and the response variable\n",
    "df['lmpg'] = np.log(df['mpg'])\n",
    "X = df[['cylinders', 'displacement', 'horsepower', 'weight', 'acceleration']]\n",
    "y = df['lmpg']\n",
    "\n",
    "# Split the dataset into training and testing sets\n",
    "X_train, X_test, y_train, y_test = train_test_split(X, y, test_size=0.2, random_state=0)\n",
    "\n",
    "# Initialize and fit the Linear Regression model to the training data\n",
    "model = LinearRegression()\n",
    "model.fit(X_train, y_train)\n",
    "\n",
    "# Predict on the training data and calculate MSE\n",
    "y_train_pred = model.predict(X_train)\n",
    "mse_train = mean_squared_error(y_train, y_train_pred)\n",
    "\n",
    "# Predict on the testing data and calculate MSE\n",
    "y_test_pred = model.predict(X_test)\n",
    "mse_test = mean_squared_error(y_test, y_test_pred)\n",
    "\n",
    "# Calculate the change in MSE\n",
    "mse_change = mse_test - mse_train\n",
    "\n",
    "# Report the MSE for the training set, testing set, and the change in MSE\n",
    "print(f\"MSE on training set: {mse_train}\")\n",
    "print(f\"MSE on testing set: {mse_test}\")\n",
    "print(f\"Change in MSE from training to testing: {mse_change}\")\n"
   ]
  },
  {
   "cell_type": "markdown",
   "metadata": {
    "id": "oUmNj5g5Adf1"
   },
   "source": [
    "## 6. Bonus Question. Use the stepwise regression to reach your final model. Try different model selection criteria (i.e., AIC, BIC, Adj R^2) and see if you can come up with the same model even with the different criteria. Determine the best model if you get different models with different criteria. (Consider a model that gives the lowest MSE on the test set as the best model) (2 pts)."
   ]
  },
  {
   "cell_type": "code",
   "execution_count": 14,
   "metadata": {
    "id": "-ZRHd1x5WO_O"
   },
   "outputs": [
    {
     "name": "stdout",
     "output_type": "stream",
     "text": [
      "Best Model (based on AIC):\n",
      "                                 OLS Regression Results                                \n",
      "=======================================================================================\n",
      "Dep. Variable:                   lmpg   R-squared (uncentered):                   0.985\n",
      "Model:                            OLS   Adj. R-squared (uncentered):              0.985\n",
      "Method:                 Least Squares   F-statistic:                              4108.\n",
      "Date:                Tue, 13 Feb 2024   Prob (F-statistic):                   1.77e-279\n",
      "Time:                        08:14:22   Log-Likelihood:                         -140.85\n",
      "No. Observations:                 313   AIC:                                      291.7\n",
      "Df Residuals:                     308   BIC:                                      310.4\n",
      "Df Model:                           5                                                  \n",
      "Covariance Type:            nonrobust                                                  \n",
      "================================================================================\n",
      "                   coef    std err          t      P>|t|      [0.025      0.975]\n",
      "--------------------------------------------------------------------------------\n",
      "acceleration     0.1573      0.007     21.784      0.000       0.143       0.171\n",
      "horsepower       0.0145      0.001     11.300      0.000       0.012       0.017\n",
      "displacement    -0.0060      0.001     -7.132      0.000      -0.008      -0.004\n",
      "cylinders        0.2324      0.039      5.950      0.000       0.156       0.309\n",
      "weight          -0.0003   7.99e-05     -4.157      0.000      -0.000      -0.000\n",
      "==============================================================================\n",
      "Omnibus:                       51.279   Durbin-Watson:                   2.161\n",
      "Prob(Omnibus):                  0.000   Jarque-Bera (JB):              165.155\n",
      "Skew:                          -0.691   Prob(JB):                     1.37e-36\n",
      "Kurtosis:                       6.279   Cond. No.                     5.65e+03\n",
      "==============================================================================\n",
      "\n",
      "Notes:\n",
      "[1] R² is computed without centering (uncentered) since the model does not contain a constant.\n",
      "[2] Standard Errors assume that the covariance matrix of the errors is correctly specified.\n",
      "[3] The condition number is large, 5.65e+03. This might indicate that there are\n",
      "strong multicollinearity or other numerical problems.\n",
      "Selected Features:\n",
      "['acceleration', 'horsepower', 'displacement', 'cylinders', 'weight']\n"
     ]
    }
   ],
   "source": [
    "import numpy as np\n",
    "import pandas as pd\n",
    "import statsmodels.api as sm\n",
    "from sklearn.model_selection import train_test_split\n",
    "from sklearn.metrics import mean_squared_error\n",
    "\n",
    "DEBUG = False\n",
    "\n",
    "# Load the CSV file\n",
    "data = pd.read_csv('auto_mpg_edit.csv') \n",
    "\n",
    "# Drop the 'car name' column because it is not useful\n",
    "data.drop(columns=['car name'], inplace=True) \n",
    "\n",
    "# Log-transform 'mpg' and define predictors and the response variable\n",
    "data['lmpg'] = np.log(data['mpg'])\n",
    "\n",
    "# Example selected_columns based on AIC criteria, adjust accordingly\n",
    "selected_columns = ['weight', 'horsepower', 'cylinders', 'displacement', 'acceleration']  \n",
    "\n",
    "# Add constant for intercept in model training and predictions\n",
    "X = sm.add_constant(data[selected_columns])\n",
    "\n",
    "X = data[['cylinders', 'displacement', 'horsepower', 'weight', 'acceleration']]\n",
    "y = data['lmpg']\n",
    "\n",
    "# Split the data into training and testing sets\n",
    "X_train, X_test, y_train, y_test = train_test_split(X, y, test_size=0.2, random_state=42)\n",
    "if DEBUG:print(X_train, X_test, y_train, y_test)\n",
    "\n",
    "# Stepwise regression function\n",
    "def stepwise_selection(X, y, criteria):\n",
    "    selected_columns = []\n",
    "    best_model = None\n",
    "    best_mse = np.inf\n",
    "    if DEBUG:print(X, y, criteria)\n",
    "    while True:\n",
    "        candidate_columns = [col for col in X.columns if col not in selected_columns]\n",
    "        if DEBUG:print('candidate_columns:',candidate_columns)\n",
    "        if len(candidate_columns) == 0:\n",
    "            break\n",
    "        \n",
    "        best_candidate = None\n",
    "        for col in candidate_columns:\n",
    "            if DEBUG:print('col:',col)\n",
    "            model_columns = selected_columns + [col]\n",
    "            X_subset = X[model_columns]\n",
    "            model = sm.OLS(y, X_subset).fit()\n",
    "            if DEBUG:print('model:',model)\n",
    "            if criteria == 'AIC':\n",
    "                if best_candidate is None or model.aic < best_candidate.aic:\n",
    "                    best_candidate = model\n",
    "            elif criteria == 'BIC':\n",
    "                if best_candidate is None or model.bic < best_candidate.bic:\n",
    "                    best_candidate = model\n",
    "            elif criteria == 'Adj_R2':\n",
    "                if best_candidate is None or model.rsquared_adj > best_candidate.rsquared_adj:\n",
    "                    best_candidate = model\n",
    "        \n",
    "        selected_columns.append(best_candidate.params.index[-1])\n",
    "        if mean_squared_error(y_test, best_candidate.predict(X_test[selected_columns])) < best_mse:\n",
    "            best_mse = mean_squared_error(y_test, best_candidate.predict(X_test[selected_columns]))\n",
    "            best_model = best_candidate\n",
    "            \n",
    "    return best_model, selected_columns\n",
    "\n",
    "# Perform stepwise regression with different criteria\n",
    "criteria_list = ['AIC', 'BIC', 'Adj_R2']\n",
    "best_models = {}\n",
    "for criteria in criteria_list:\n",
    "    best_model, selected_columns = stepwise_selection(X_train, y_train, criteria)\n",
    "    best_models[criteria] = (best_model, selected_columns)\n",
    "\n",
    "# Select the best model based on the lowest MSE on the test set\n",
    "best_criteria = None\n",
    "best_mse = np.inf\n",
    "for criteria, (model, selected_columns) in best_models.items():\n",
    "    mse = mean_squared_error(y_test, model.predict(X_test[selected_columns]))\n",
    "    if mse < best_mse:\n",
    "        best_criteria = criteria\n",
    "        best_mse = mse\n",
    "\n",
    "best_model, selected_columns = best_models[best_criteria]\n",
    "\n",
    "# Print the best model and selected features\n",
    "print(\"Best Model (based on {}):\".format(best_criteria))\n",
    "print(best_model.summary())\n",
    "print(\"Selected Features:\")\n",
    "print(selected_columns)\n"
   ]
  },
  {
   "cell_type": "code",
   "execution_count": null,
   "metadata": {},
   "outputs": [],
   "source": []
  }
 ],
 "metadata": {
  "colab": {
   "provenance": []
  },
  "kernelspec": {
   "display_name": "Python 3 (ipykernel)",
   "language": "python",
   "name": "python3"
  },
  "language_info": {
   "codemirror_mode": {
    "name": "ipython",
    "version": 3
   },
   "file_extension": ".py",
   "mimetype": "text/x-python",
   "name": "python",
   "nbconvert_exporter": "python",
   "pygments_lexer": "ipython3",
   "version": "3.9.13"
  }
 },
 "nbformat": 4,
 "nbformat_minor": 1
}
